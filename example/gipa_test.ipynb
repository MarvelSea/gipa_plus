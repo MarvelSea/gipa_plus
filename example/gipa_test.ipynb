{
 "cells": [
  {
   "cell_type": "code",
   "execution_count": 1,
   "id": "proprietary-trace",
   "metadata": {
    "scrolled": true
   },
   "outputs": [
    {
     "name": "stderr",
     "output_type": "stream",
     "text": [
      "Using backend: pytorch\n"
     ]
    }
   ],
   "source": [
    "import pandas as pd\n",
    "import numpy as np\n",
    "\n",
    "import dgl\n",
    "import dgl.function as fn\n",
    "import torch as th"
   ]
  },
  {
   "cell_type": "markdown",
   "id": "complex-origin",
   "metadata": {},
   "source": [
    "# Load graph"
   ]
  },
  {
   "cell_type": "code",
   "execution_count": 2,
   "id": "continental-welcome",
   "metadata": {},
   "outputs": [
    {
     "name": "stderr",
     "output_type": "stream",
     "text": [
      "WARNING:root:The OGB package is out of date. Your version is 1.3.0, while the latest version is 1.3.1.\n"
     ]
    }
   ],
   "source": [
    "from ogb.nodeproppred import DglNodePropPredDataset, Evaluator"
   ]
  },
  {
   "cell_type": "code",
   "execution_count": 3,
   "id": "subjective-header",
   "metadata": {},
   "outputs": [],
   "source": [
    "data = DglNodePropPredDataset(name='ogbn-proteins', root='/home/stanislas/dataset')\n",
    "evaluator = Evaluator(name='ogbn-proteins')\n",
    "\n",
    "splitted_idx = data.get_idx_split()\n",
    "train_idx, val_idx, test_idx = splitted_idx[\"train\"], splitted_idx[\"valid\"], splitted_idx[\"test\"]\n",
    "graph, labels = data[0]"
   ]
  },
  {
   "cell_type": "code",
   "execution_count": 4,
   "id": "wrapped-approval",
   "metadata": {},
   "outputs": [],
   "source": [
    "def one_hot_encoder(x):\n",
    "    ids = x.unique()\n",
    "    id_dict = dict(list(zip(ids.numpy(), np.arange(len(ids)))))\n",
    "    one_hot = th.zeros((len(x), len(ids)))\n",
    "    for i, u in enumerate(x):\n",
    "        if id_dict[u.item()] == 4:\n",
    "            pass\n",
    "        else:\n",
    "            one_hot[i][id_dict[u.item()]] = 1\n",
    "\n",
    "    return one_hot"
   ]
  },
  {
   "cell_type": "code",
   "execution_count": 5,
   "id": "local-syntax",
   "metadata": {},
   "outputs": [],
   "source": [
    "species = graph.ndata['species']\n",
    "features = one_hot_encoder(species)\n",
    "graph.ndata['feat'] = features"
   ]
  },
  {
   "cell_type": "code",
   "execution_count": 6,
   "id": "lined-operations",
   "metadata": {},
   "outputs": [],
   "source": [
    "def preprocess(graph, use_label=False):\n",
    "    # add additional features\n",
    "    graph.update_all(fn.copy_e(\"feat\", \"e\"), fn.sum(\"e\", \"feat_add\"))\n",
    "    if use_label:\n",
    "        graph.ndata['feat'] = th.cat((graph.ndata['feat_add'], graph.ndata['feat']), dim=1)\n",
    "    else:\n",
    "        graph.ndata['feat'] = graph.ndata['feat_add']\n",
    "    graph.create_formats_()\n",
    "\n",
    "    return graph"
   ]
  },
  {
   "cell_type": "code",
   "execution_count": 7,
   "id": "surrounded-amazon",
   "metadata": {},
   "outputs": [],
   "source": [
    "graph_prep = preprocess(graph)"
   ]
  },
  {
   "cell_type": "markdown",
   "id": "posted-compact",
   "metadata": {},
   "source": [
    "# Load model"
   ]
  },
  {
   "cell_type": "code",
   "execution_count": 8,
   "id": "brave-hearing",
   "metadata": {},
   "outputs": [],
   "source": [
    "from gipa_model import *\n",
    "\n",
    "model = GIPA(n_node_feat=8,\n",
    "             n_edge_feat=8,\n",
    "             n_node_emb=80,\n",
    "             n_edge_emb=16,\n",
    "             n_hiddens_att=[80],\n",
    "             n_heads_att=8,\n",
    "             n_hiddens_prop=[80],\n",
    "             n_hiddens_agg=[],\n",
    "             n_hiddens_deep=[],\n",
    "             n_layers=6,\n",
    "             n_classes=112,\n",
    "             agg_type='sum',\n",
    "             act_type='relu',\n",
    "             edge_drop=0.1,\n",
    "             dropout_node=0.1,\n",
    "             dropout_att=0.1,\n",
    "             dropout_prop=0.25,\n",
    "             dropout_agg=0.25,\n",
    "             dropout_deep=0.5)"
   ]
  },
  {
   "cell_type": "code",
   "execution_count": 9,
   "id": "defensive-relationship",
   "metadata": {},
   "outputs": [
    {
     "data": {
      "text/plain": [
       "GIPA(\n",
       "  (node_emb): Linear(in_features=8, out_features=80, bias=False)\n",
       "  (gipa_layers): ModuleList(\n",
       "    (0): GIPAConv(\n",
       "      (att_src_layers): ModuleList(\n",
       "        (0): Linear(in_features=80, out_features=80, bias=False)\n",
       "        (1): Linear(in_features=80, out_features=8, bias=False)\n",
       "      )\n",
       "      (att_dst_layers): ModuleList(\n",
       "        (0): Linear(in_features=80, out_features=80, bias=False)\n",
       "        (1): Linear(in_features=80, out_features=8, bias=False)\n",
       "      )\n",
       "      (att_edge_layers): ModuleList(\n",
       "        (0): Linear(in_features=16, out_features=80, bias=False)\n",
       "        (1): Linear(in_features=80, out_features=8, bias=False)\n",
       "      )\n",
       "      (src_prop_layers): ModuleList(\n",
       "        (0): Linear(in_features=80, out_features=640, bias=True)\n",
       "      )\n",
       "      (dst_prop_layers): ModuleList(\n",
       "        (0): Linear(in_features=80, out_features=640, bias=True)\n",
       "      )\n",
       "      (agg_layers): ModuleList()\n",
       "      (dropout_att): Dropout(p=0.1, inplace=False)\n",
       "      (dropout_prop): Dropout(p=0.25, inplace=False)\n",
       "      (dropout_agg): Dropout(p=0.25, inplace=False)\n",
       "    )\n",
       "    (1): GIPAConv(\n",
       "      (att_src_layers): ModuleList(\n",
       "        (0): Linear(in_features=640, out_features=80, bias=False)\n",
       "        (1): Linear(in_features=80, out_features=8, bias=False)\n",
       "      )\n",
       "      (att_dst_layers): ModuleList(\n",
       "        (0): Linear(in_features=640, out_features=80, bias=False)\n",
       "        (1): Linear(in_features=80, out_features=8, bias=False)\n",
       "      )\n",
       "      (att_edge_layers): ModuleList(\n",
       "        (0): Linear(in_features=16, out_features=80, bias=False)\n",
       "        (1): Linear(in_features=80, out_features=8, bias=False)\n",
       "      )\n",
       "      (src_prop_layers): ModuleList(\n",
       "        (0): Linear(in_features=640, out_features=640, bias=True)\n",
       "      )\n",
       "      (dst_prop_layers): ModuleList(\n",
       "        (0): Linear(in_features=640, out_features=640, bias=True)\n",
       "      )\n",
       "      (agg_layers): ModuleList()\n",
       "      (dropout_att): Dropout(p=0.1, inplace=False)\n",
       "      (dropout_prop): Dropout(p=0.25, inplace=False)\n",
       "      (dropout_agg): Dropout(p=0.25, inplace=False)\n",
       "    )\n",
       "    (2): GIPAConv(\n",
       "      (att_src_layers): ModuleList(\n",
       "        (0): Linear(in_features=640, out_features=80, bias=False)\n",
       "        (1): Linear(in_features=80, out_features=8, bias=False)\n",
       "      )\n",
       "      (att_dst_layers): ModuleList(\n",
       "        (0): Linear(in_features=640, out_features=80, bias=False)\n",
       "        (1): Linear(in_features=80, out_features=8, bias=False)\n",
       "      )\n",
       "      (att_edge_layers): ModuleList(\n",
       "        (0): Linear(in_features=16, out_features=80, bias=False)\n",
       "        (1): Linear(in_features=80, out_features=8, bias=False)\n",
       "      )\n",
       "      (src_prop_layers): ModuleList(\n",
       "        (0): Linear(in_features=640, out_features=640, bias=True)\n",
       "      )\n",
       "      (dst_prop_layers): ModuleList(\n",
       "        (0): Linear(in_features=640, out_features=640, bias=True)\n",
       "      )\n",
       "      (agg_layers): ModuleList()\n",
       "      (dropout_att): Dropout(p=0.1, inplace=False)\n",
       "      (dropout_prop): Dropout(p=0.25, inplace=False)\n",
       "      (dropout_agg): Dropout(p=0.25, inplace=False)\n",
       "    )\n",
       "    (3): GIPAConv(\n",
       "      (att_src_layers): ModuleList(\n",
       "        (0): Linear(in_features=640, out_features=80, bias=False)\n",
       "        (1): Linear(in_features=80, out_features=8, bias=False)\n",
       "      )\n",
       "      (att_dst_layers): ModuleList(\n",
       "        (0): Linear(in_features=640, out_features=80, bias=False)\n",
       "        (1): Linear(in_features=80, out_features=8, bias=False)\n",
       "      )\n",
       "      (att_edge_layers): ModuleList(\n",
       "        (0): Linear(in_features=16, out_features=80, bias=False)\n",
       "        (1): Linear(in_features=80, out_features=8, bias=False)\n",
       "      )\n",
       "      (src_prop_layers): ModuleList(\n",
       "        (0): Linear(in_features=640, out_features=640, bias=True)\n",
       "      )\n",
       "      (dst_prop_layers): ModuleList(\n",
       "        (0): Linear(in_features=640, out_features=640, bias=True)\n",
       "      )\n",
       "      (agg_layers): ModuleList()\n",
       "      (dropout_att): Dropout(p=0.1, inplace=False)\n",
       "      (dropout_prop): Dropout(p=0.25, inplace=False)\n",
       "      (dropout_agg): Dropout(p=0.25, inplace=False)\n",
       "    )\n",
       "    (4): GIPAConv(\n",
       "      (att_src_layers): ModuleList(\n",
       "        (0): Linear(in_features=640, out_features=80, bias=False)\n",
       "        (1): Linear(in_features=80, out_features=8, bias=False)\n",
       "      )\n",
       "      (att_dst_layers): ModuleList(\n",
       "        (0): Linear(in_features=640, out_features=80, bias=False)\n",
       "        (1): Linear(in_features=80, out_features=8, bias=False)\n",
       "      )\n",
       "      (att_edge_layers): ModuleList(\n",
       "        (0): Linear(in_features=16, out_features=80, bias=False)\n",
       "        (1): Linear(in_features=80, out_features=8, bias=False)\n",
       "      )\n",
       "      (src_prop_layers): ModuleList(\n",
       "        (0): Linear(in_features=640, out_features=640, bias=True)\n",
       "      )\n",
       "      (dst_prop_layers): ModuleList(\n",
       "        (0): Linear(in_features=640, out_features=640, bias=True)\n",
       "      )\n",
       "      (agg_layers): ModuleList()\n",
       "      (dropout_att): Dropout(p=0.1, inplace=False)\n",
       "      (dropout_prop): Dropout(p=0.25, inplace=False)\n",
       "      (dropout_agg): Dropout(p=0.25, inplace=False)\n",
       "    )\n",
       "    (5): GIPAConv(\n",
       "      (att_src_layers): ModuleList(\n",
       "        (0): Linear(in_features=640, out_features=80, bias=False)\n",
       "        (1): Linear(in_features=80, out_features=8, bias=False)\n",
       "      )\n",
       "      (att_dst_layers): ModuleList(\n",
       "        (0): Linear(in_features=640, out_features=80, bias=False)\n",
       "        (1): Linear(in_features=80, out_features=8, bias=False)\n",
       "      )\n",
       "      (att_edge_layers): ModuleList(\n",
       "        (0): Linear(in_features=16, out_features=80, bias=False)\n",
       "        (1): Linear(in_features=80, out_features=8, bias=False)\n",
       "      )\n",
       "      (src_prop_layers): ModuleList(\n",
       "        (0): Linear(in_features=640, out_features=640, bias=True)\n",
       "      )\n",
       "      (dst_prop_layers): ModuleList(\n",
       "        (0): Linear(in_features=640, out_features=640, bias=True)\n",
       "      )\n",
       "      (agg_layers): ModuleList()\n",
       "      (dropout_att): Dropout(p=0.1, inplace=False)\n",
       "      (dropout_prop): Dropout(p=0.25, inplace=False)\n",
       "      (dropout_agg): Dropout(p=0.25, inplace=False)\n",
       "    )\n",
       "  )\n",
       "  (batch_norms): ModuleList(\n",
       "    (0): BatchNorm1d(640, eps=1e-05, momentum=0.1, affine=True, track_running_stats=True)\n",
       "    (1): BatchNorm1d(640, eps=1e-05, momentum=0.1, affine=True, track_running_stats=True)\n",
       "    (2): BatchNorm1d(640, eps=1e-05, momentum=0.1, affine=True, track_running_stats=True)\n",
       "    (3): BatchNorm1d(640, eps=1e-05, momentum=0.1, affine=True, track_running_stats=True)\n",
       "    (4): BatchNorm1d(640, eps=1e-05, momentum=0.1, affine=True, track_running_stats=True)\n",
       "    (5): BatchNorm1d(640, eps=1e-05, momentum=0.1, affine=True, track_running_stats=True)\n",
       "  )\n",
       "  (edge_embs): ModuleList(\n",
       "    (0): Linear(in_features=8, out_features=16, bias=True)\n",
       "    (1): Linear(in_features=8, out_features=16, bias=True)\n",
       "    (2): Linear(in_features=8, out_features=16, bias=True)\n",
       "    (3): Linear(in_features=8, out_features=16, bias=True)\n",
       "    (4): Linear(in_features=8, out_features=16, bias=True)\n",
       "    (5): Linear(in_features=8, out_features=16, bias=True)\n",
       "  )\n",
       "  (deep_layers): ModuleList(\n",
       "    (0): Linear(in_features=640, out_features=112, bias=True)\n",
       "  )\n",
       "  (dropout_node): Dropout(p=0.1, inplace=False)\n",
       "  (dropout_deep): Dropout(p=0.5, inplace=False)\n",
       ")"
      ]
     },
     "execution_count": 9,
     "metadata": {},
     "output_type": "execute_result"
    }
   ],
   "source": [
    "model_path = \"./saved_models/gipa_protein_model.pt\"\n",
    "model.load_state_dict(th.load(model_path))\n",
    "model.eval()"
   ]
  },
  {
   "cell_type": "markdown",
   "id": "close-swimming",
   "metadata": {},
   "source": [
    "# Inference"
   ]
  },
  {
   "cell_type": "code",
   "execution_count": 10,
   "id": "variable-killer",
   "metadata": {},
   "outputs": [],
   "source": [
    "pred = model.forward(graph_prep)"
   ]
  },
  {
   "cell_type": "code",
   "execution_count": 11,
   "id": "behind-reynolds",
   "metadata": {},
   "outputs": [
    {
     "data": {
      "text/plain": [
       "0.9189592164422503"
      ]
     },
     "execution_count": 11,
     "metadata": {},
     "output_type": "execute_result"
    }
   ],
   "source": [
    "evaluator.eval({\"y_pred\": pred[val_idx], \"y_true\": labels[val_idx]})[\"rocauc\"]"
   ]
  },
  {
   "cell_type": "code",
   "execution_count": 12,
   "id": "impossible-lewis",
   "metadata": {},
   "outputs": [
    {
     "data": {
      "text/plain": [
       "0.8705416020922279"
      ]
     },
     "execution_count": 12,
     "metadata": {},
     "output_type": "execute_result"
    }
   ],
   "source": [
    "evaluator.eval({\"y_pred\": pred[test_idx], \"y_true\": labels[test_idx]})[\"rocauc\"]"
   ]
  }
 ],
 "metadata": {
  "kernelspec": {
   "display_name": "Python 3",
   "language": "python",
   "name": "python3"
  },
  "language_info": {
   "codemirror_mode": {
    "name": "ipython",
    "version": 3
   },
   "file_extension": ".py",
   "mimetype": "text/x-python",
   "name": "python",
   "nbconvert_exporter": "python",
   "pygments_lexer": "ipython3",
   "version": "3.8.5"
  }
 },
 "nbformat": 4,
 "nbformat_minor": 5
}
